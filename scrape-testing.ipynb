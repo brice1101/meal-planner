{
 "cells": [
  {
   "cell_type": "code",
   "execution_count": 1,
   "id": "initial_id",
   "metadata": {
    "collapsed": true,
    "ExecuteTime": {
     "end_time": "2025-03-10T23:52:58.388865700Z",
     "start_time": "2025-03-10T23:52:58.284747Z"
    }
   },
   "outputs": [],
   "source": [
    "# Imports\n",
    "import re\n",
    "from selenium.webdriver.support.ui import WebDriverWait\n",
    "from selenium.webdriver.support import expected_conditions as EC\n",
    "from selenium import webdriver\n",
    "from selenium.webdriver.chrome.service import Service\n",
    "from selenium.webdriver.common.by import By\n",
    "import sqlite3\n",
    "import time"
   ]
  },
  {
   "cell_type": "code",
   "execution_count": 2,
   "outputs": [],
   "source": [
    "def scrape_gousto_recipe(url, driver):\n",
    "    \"\"\"\n",
    "    Scrapes recipe information from a Gousto recipe webpage.\n",
    "\n",
    "    This function uses Selenium to navigate to the provided URL, waits for the page to load,\n",
    "    and extracts the recipe title, ingredients, and instructions. It handles potential errors\n",
    "    during the scraping process and returns a dictionary containing the extracted data.\n",
    "\n",
    "    Args:\n",
    "        url (str): The URL of the Gousto recipe webpage.\n",
    "        driver (selenium.webdriver.remote.webdriver.WebDriver): The Selenium WebDriver instance.\n",
    "\n",
    "    Returns:\n",
    "        dict: A dictionary containing the scraped recipe data, including:\n",
    "            - 'title' (str): The recipe title.\n",
    "            - 'ingredients' (str): A newline-separated string of ingredients.\n",
    "            - 'url' (str): The URL of the scraped recipe.\n",
    "        None: If an error occurs during scraping.\n",
    "    \"\"\"\n",
    "\n",
    "    try:\n",
    "        driver.get(url)\n",
    "\n",
    "        # Wait for the main recipe title to load\n",
    "        WebDriverWait(driver, 10).until(\n",
    "            EC.presence_of_element_located((By.TAG_NAME, \"h1\"))\n",
    "        )\n",
    "\n",
    "        # Get heading of page, corresponding to recipe title\n",
    "        title = driver.find_element(By.TAG_NAME, \"h1\").text.strip() if driver.find_elements(By.TAG_NAME, \"h1\") else \"Title not found\"\n",
    "\n",
    "        # Get the list of ingredients\n",
    "        ingredients_list = []\n",
    "        ingredients_elements = driver.find_elements(By.CSS_SELECTOR, \"ul.IngredientList_ingredientList__14UI0 li\")\n",
    "        for ingredient in ingredients_elements:\n",
    "            ingredients_list.append(ingredient.text.strip())\n",
    "        \n",
    "        # Remove duplicates found in some erroneous ingredient lists\n",
    "        unique_ingredients = list(set(ingredients_list))\n",
    "\n",
    "        # Return a dictionary with necessary information\n",
    "        return {\n",
    "            'title': title,\n",
    "            'ingredients': unique_ingredients,\n",
    "            'url': url\n",
    "        }\n",
    "\n",
    "    # Handle exceptions during scraping by returning None instead\n",
    "    except Exception as e:\n",
    "        print(f\"Error scraping {url}: {e}\")\n",
    "        return None"
   ],
   "metadata": {
    "collapsed": false,
    "ExecuteTime": {
     "end_time": "2025-03-10T23:53:01.847068300Z",
     "start_time": "2025-03-10T23:53:01.841455Z"
    }
   },
   "id": "c06f31611050ed8c"
  },
  {
   "cell_type": "code",
   "execution_count": 8,
   "outputs": [],
   "source": [
    "def parse_ingredient(ingredient_line):\n",
    "    \"\"\"\n",
    "    Parses an ingredient line to extract the ingredient name, quantity, and unit.\n",
    "\n",
    "    This function uses a regular expression to parse ingredient lines that may contain\n",
    "    quantity, unit, and multiple values within parentheses or preceded by \"x\".\n",
    "    It handles various formats and returns a tuple containing the parsed information.\n",
    "\n",
    "    Args:\n",
    "        ingredient_line (str): The ingredient line to parse.\n",
    "\n",
    "    Returns:\n",
    "        tuple: A tuple containing (name, quantity, unit), where:\n",
    "            - name (str): The name of the ingredient.\n",
    "            - quantity (float or int or None): The quantity of the ingredient (if specified), or None.\n",
    "            - unit (str or None): The unit of the ingredient (if specified), or None.\n",
    "\n",
    "    Examples:\n",
    "        >>> parse_ingredient(\"Chicken breast (200g)\")\n",
    "        ('Chicken breast', 200.0, 'g')\n",
    "        >>> parse_ingredient(\"Onion x2\")\n",
    "        ('Onion', 2.0, None)\n",
    "        >>> parse_ingredient(\"Salt\")\n",
    "        ('Salt', None, None)\n",
    "    \"\"\"\n",
    "    ingredient_str = ingredient_line.replace('†','').strip() # Remove allergen marker from ingredients where needed\n",
    "    ingredient_str = ingredient_str.strip()\n",
    "\n",
    "    # Case 1: Parentheses with optional x quantity\n",
    "    parentheses_match = re.search(r\"^(.*?)\\s*\\((?P<quantity>\\d+(?:\\.\\d+)?)\\s*(?P<unit>(?:g|kg|ml|l|tsp|tbsp|cup|oz|lb|pinch|dash|pcs)\\b)?\\)\\s*(?:x\\s*(?P<multiplier>\\d+(?:\\.\\d+)?))?$\", ingredient_str)\n",
    "    if parentheses_match:\n",
    "        name = parentheses_match.group(1).strip()\n",
    "        quantity = float(parentheses_match.group(\"quantity\"))\n",
    "        unit = parentheses_match.group(\"unit\")\n",
    "        multiplier = parentheses_match.group(\"multiplier\")\n",
    "\n",
    "        if multiplier:\n",
    "            quantity *= float(multiplier)\n",
    "        return name, str(quantity), unit\n",
    "\n",
    "    # Case 2: Quantity x Name\n",
    "    quantity_x_start_match = re.search(r\"^(?P<quantity>\\d+(?:\\.\\d+)?)\\s*x\\s*(?P<name>.*)$\", ingredient_str)\n",
    "    if quantity_x_start_match:\n",
    "        return quantity_x_start_match.group(\"name\").strip(), quantity_x_start_match.group(\"quantity\"), None\n",
    "\n",
    "    # Case 3: Name x Quantity\n",
    "    name_x_end_match = re.search(r\"^(?P<name>.*)\\s*x\\s*(?P<quantity>\\d+(?:\\.\\d+)?)$\", ingredient_str)\n",
    "    if name_x_end_match:\n",
    "        return name_x_end_match.group(\"name\").strip(), name_x_end_match.group(\"quantity\"), None\n",
    "\n",
    "    # Case 4: Quantity Unit Name\n",
    "    quantity_unit_name_match = re.search(r\"^(?P<quantity>\\d+(?:\\.\\d+)?)\\s*(?P<unit>(?:g|kg|ml|l|tsp|tbsp|cup|oz|lb|pinch|dash|pcs)\\b)\\s*(?P<name>.*)$\", ingredient_str)\n",
    "    if quantity_unit_name_match:\n",
    "        return quantity_unit_name_match.group(\"name\").strip(), quantity_unit_name_match.group(\"quantity\"), quantity_unit_name_match.group(\"unit\")\n",
    "\n",
    "    # Case 5: Quantity Name\n",
    "    quantity_name_match = re.search(r\"^(?P<quantity>\\d+(?:\\.\\d+)?)\\s*(?P<name>.*)$\", ingredient_str)\n",
    "    if quantity_name_match:\n",
    "        return quantity_name_match.group(\"name\").strip(), quantity_name_match.group(\"quantity\"), None\n",
    "\n",
    "    # Case 6: Name Only\n",
    "    return ingredient_str, None, None"
   ],
   "metadata": {
    "collapsed": false,
    "ExecuteTime": {
     "end_time": "2025-03-11T00:02:16.852836400Z",
     "start_time": "2025-03-11T00:02:16.850202200Z"
    }
   },
   "id": "c3305484ffa03da1"
  },
  {
   "cell_type": "code",
   "execution_count": 4,
   "outputs": [],
   "source": [
    "def insert_recipe_data(recipe_data, db_path):\n",
    "    conn = sqlite3.connect(db_path)\n",
    "    cursor = conn.cursor()\n",
    "    cursor.execute(\"SELECT name FROM sqlite_master WHERE type='table';\")\n",
    "    tables = cursor.fetchall()\n",
    "    # Insert into the recipes table\n",
    "    cursor.execute(\"INSERT INTO recipes (title, instructions_url) VALUES (?, ?)\",\n",
    "                   (recipe_data['title'], recipe_data['url']))\n",
    "    # cursor.execute(\"INSERT INTO recipes (title, instructions_url) VALUES (?, ?)\",\n",
    "    # (recipe_data['title'], recipe_data['url'],))\n",
    "    recipe_id = cursor.lastrowid  # Get the newly inserted recipe ID\n",
    "\n",
    "    for line in recipe_data['ingredients']:\n",
    "        ingredient_name, quantity, unit = parse_ingredient(line)\n",
    "        # Check if the ingredient already exists\n",
    "        cursor.execute(\"SELECT ingredient_id FROM ingredients WHERE ingredient_name = ?\", (ingredient_name,))\n",
    "        existing_ingredient = cursor.fetchone()\n",
    "\n",
    "        if existing_ingredient:\n",
    "            ingredient_id = existing_ingredient[0]\n",
    "        else:\n",
    "            # Insert the new ingredient\n",
    "            cursor.execute(\"INSERT INTO ingredients (ingredient_name) VALUES (?)\", (ingredient_name,))\n",
    "            ingredient_id = cursor.lastrowid\n",
    "\n",
    "        # Insert into the recipe_ingredients table\n",
    "        cursor.execute(\"INSERT INTO recipe_ingredients (recipe_id, ingredient_id, quantity, unit) VALUES (?, ?, ?, ?)\",\n",
    "                       (recipe_id, ingredient_id, quantity, unit))\n",
    "\n",
    "    conn.commit()\n",
    "    conn.close()"
   ],
   "metadata": {
    "collapsed": false,
    "ExecuteTime": {
     "end_time": "2025-03-10T23:53:05.979924400Z",
     "start_time": "2025-03-10T23:53:05.973091300Z"
    }
   },
   "id": "43eb8b38499af5f4"
  },
  {
   "cell_type": "code",
   "execution_count": 25,
   "outputs": [],
   "source": [
    "def get_recipe_urls_from_category(category_url, driver):\n",
    "    print(category_url)\n",
    "    driver.get(category_url)\n",
    "    time.sleep(2) #allow page to load.\n",
    "    \n",
    "    try:\n",
    "        target_division = WebDriverWait(driver, 10).until(\n",
    "            EC.presence_of_element_located((By.CSS_SELECTOR, \".PageSection_verticalPaddingSmallMediumLarge__2sHrM\"))\n",
    "        )\n",
    "        # Find recipe links within the division\n",
    "        recipe_links = target_division.find_elements(By.CSS_SELECTOR, \"a[href*='/cookbook/']\")\n",
    "        urls = []\n",
    "        for link in recipe_links:\n",
    "            urls.append(link.get_attribute(\"href\"))\n",
    "        return urls\n",
    "\n",
    "    except Exception as e:\n",
    "        print(f\"Error scraping {category_url}: {e}\")\n",
    "        return []"
   ],
   "metadata": {
    "collapsed": false,
    "ExecuteTime": {
     "end_time": "2025-03-11T00:37:25.394697700Z",
     "start_time": "2025-03-11T00:37:25.387676800Z"
    }
   },
   "id": "565714f965e8b039"
  },
  {
   "cell_type": "code",
   "execution_count": 20,
   "outputs": [],
   "source": [
    "def scrape_all_gousto_recipes(category_url, driver):\n",
    "    visited_urls = set()\n",
    "    all_recipe_data = []\n",
    "\n",
    "    recipe_urls = get_recipe_urls_from_category(category_url, driver)\n",
    "    for recipe_url in recipe_urls:\n",
    "        if recipe_url not in visited_urls:\n",
    "            visited_urls.add(recipe_url)\n",
    "            recipe_data = scrape_gousto_recipe(recipe_url, driver)  # Your existing scrape function.\n",
    "            if recipe_data:\n",
    "                all_recipe_data.append(recipe_data)\n",
    "            time.sleep(1)  # Rate limiting.\n",
    "    return all_recipe_data"
   ],
   "metadata": {
    "collapsed": false,
    "ExecuteTime": {
     "end_time": "2025-03-11T00:29:07.775221400Z",
     "start_time": "2025-03-11T00:29:07.766878500Z"
    }
   },
   "id": "d4de0a3b4d5fc5b8"
  },
  {
   "cell_type": "code",
   "execution_count": 26,
   "outputs": [
    {
     "name": "stdout",
     "output_type": "stream",
     "text": [
      "https://www.gousto.co.uk/cookbook/recipes\n"
     ]
    }
   ],
   "source": [
    "category_url = 'https://www.gousto.co.uk/cookbook/recipes'\n",
    "\n",
    "service = Service(executable_path='chromedriver-win64/chromedriver.exe')  # Replace with your chromedriver path.\n",
    "driver = webdriver.Chrome(service=service)\n",
    "try:\n",
    "    all_recipe_data = scrape_all_gousto_recipes(category_url, driver)\n",
    "    # store all_recipe_data into the database.\n",
    "finally:\n",
    "    driver.quit()\n",
    "for i in all_recipe_data:\n",
    "    if i['ingredients']:\n",
    "        insert_recipe_data(i, 'recipes.sqlite')"
   ],
   "metadata": {
    "collapsed": false,
    "ExecuteTime": {
     "end_time": "2025-03-11T00:38:11.563871Z",
     "start_time": "2025-03-11T00:37:29.608862900Z"
    }
   },
   "id": "846dfc89b8653700"
  },
  {
   "cell_type": "code",
   "execution_count": 10,
   "outputs": [
    {
     "name": "stdout",
     "output_type": "stream",
     "text": [
      "('Ground turmeric', '1.0', 'tsp')\n",
      "('Red lentils', '100.0', 'g')\n",
      "('Coriander', '20.0', 'g')\n",
      "('Aubergine', None, None)\n",
      "('Curry powder', '1.0', 'tbsp')\n",
      "('Cider vinegar', '15.0', 'ml')\n",
      "('Solid creamed coconut', '50.0', 'g')\n",
      "('Vegetable stock mix', '11.0', 'g')\n",
      "('Shallot', '3', None)\n",
      "('Fresh root ginger', '15.0', 'g')\n",
      "('Black mustard seeds', '1.0', 'tsp')\n",
      "('White basmati rice', '130.0', 'g')\n",
      "('Garlic clove', '3', None)\n",
      "('Green chilli', None, None)\n"
     ]
    }
   ],
   "source": [
    "service = Service(executable_path='chromedriver-win64/chromedriver.exe')  # Replace with your chromedriver path.\n",
    "driver = webdriver.Chrome(service=service)\n",
    "troubleshoot = scrape_gousto_recipe('https://www.gousto.co.uk/cookbook/vegan-recipes/sri-lankan-coconut-dal-with-aubergine-pickle', driver)\n",
    "for line in troubleshoot['ingredients']:\n",
    "    print(parse_ingredient(line))\n",
    "#insert_recipe_data(troubleshoot, 'C:/Users/brxce/Documents/Python Projects/mealplanner/recipes.sqlite')\n",
    "driver.quit()"
   ],
   "metadata": {
    "collapsed": false,
    "ExecuteTime": {
     "end_time": "2025-03-11T00:03:12.012678700Z",
     "start_time": "2025-03-11T00:03:03.244513900Z"
    }
   },
   "id": "5a6696283a75a141"
  }
 ],
 "metadata": {
  "kernelspec": {
   "display_name": "Python 3",
   "language": "python",
   "name": "python3"
  },
  "language_info": {
   "codemirror_mode": {
    "name": "ipython",
    "version": 2
   },
   "file_extension": ".py",
   "mimetype": "text/x-python",
   "name": "python",
   "nbconvert_exporter": "python",
   "pygments_lexer": "ipython2",
   "version": "2.7.6"
  }
 },
 "nbformat": 4,
 "nbformat_minor": 5
}
