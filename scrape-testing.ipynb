{
 "cells": [
  {
   "cell_type": "code",
   "execution_count": 1,
   "id": "initial_id",
   "metadata": {
    "collapsed": true,
    "ExecuteTime": {
     "end_time": "2025-03-13T08:45:21.440509100Z",
     "start_time": "2025-03-13T08:45:21.301879900Z"
    }
   },
   "outputs": [],
   "source": [
    "# Imports\n",
    "import re\n",
    "from selenium.webdriver.support.ui import WebDriverWait\n",
    "from selenium.webdriver.support import expected_conditions as EC\n",
    "from selenium import webdriver\n",
    "from selenium.webdriver.chrome.service import Service\n",
    "from selenium.webdriver.common.by import By\n",
    "import sqlite3\n",
    "import time"
   ]
  },
  {
   "cell_type": "code",
   "execution_count": 2,
   "outputs": [],
   "source": [
    "def scrape_gousto_recipe(url, driver):\n",
    "    \"\"\"\n",
    "    Scrapes recipe information from a Gousto recipe webpage.\n",
    "    \n",
    "    :param url: str\n",
    "    :param driver: WebDriver corresponding to Chrome version\n",
    "    :return: Dictionary of recipe information\n",
    "    \"\"\"\n",
    "\n",
    "    try:\n",
    "        driver.get(url)\n",
    "\n",
    "        # Wait for the main recipe title to load\n",
    "        WebDriverWait(driver, 10).until(\n",
    "            EC.presence_of_element_located((By.TAG_NAME, \"h1\"))\n",
    "        )\n",
    "\n",
    "        # Get heading of page, corresponding to recipe title\n",
    "        title = driver.find_element(By.TAG_NAME, \"h1\").text.strip() if driver.find_elements(By.TAG_NAME, \"h1\") else \"Title not found\"\n",
    "\n",
    "        # Get the list of ingredients\n",
    "        ingredients_list = []\n",
    "        ingredients_elements = driver.find_elements(By.CSS_SELECTOR, \"ul.IngredientList_ingredientList__14UI0 li\")\n",
    "        for ingredient in ingredients_elements:\n",
    "            ingredients_list.append(ingredient.text.strip())\n",
    "        \n",
    "        # Remove duplicates found in some erroneous ingredient lists\n",
    "        unique_ingredients = list(set(ingredients_list))\n",
    "\n",
    "        # Return a dictionary with necessary information\n",
    "        return {\n",
    "            'title': title,\n",
    "            'ingredients': unique_ingredients,\n",
    "            'url': url\n",
    "        }\n",
    "\n",
    "    # Handle exceptions during scraping by returning None instead\n",
    "    except Exception as e:\n",
    "        print(f\"Error scraping {url}: {e}\")\n",
    "        return None"
   ],
   "metadata": {
    "collapsed": false,
    "ExecuteTime": {
     "end_time": "2025-03-13T08:45:25.582358Z",
     "start_time": "2025-03-13T08:45:25.572968Z"
    }
   },
   "id": "c06f31611050ed8c"
  },
  {
   "cell_type": "code",
   "execution_count": 3,
   "outputs": [],
   "source": [
    "def parse_fraction(fraction_str):\n",
    "    \"\"\"Parses a fraction string (e.g., \"1/2\") into a float.\"\"\"\n",
    "    parts = fraction_str.split(\"/\")\n",
    "    if len(parts) == 2 and parts[0].isdigit() and parts[1].isdigit():\n",
    "        return float(parts[0]) / float(parts[1])\n",
    "    return None\n",
    "\n",
    "def parse_ingredient(ingredient_line):\n",
    "    \"\"\"\n",
    "    Parses an ingredient line to extract the ingredient name, quantity, and unit.\n",
    "\n",
    "    :param ingredient_line: str\n",
    "    :returns: tuple of ingredient information\n",
    "    \"\"\"\n",
    "    ingredient_str = ingredient_line.replace('†','').strip() # Remove allergen marker from ingredients where needed\n",
    "    ingredient_str = ingredient_str.strip()\n",
    "\n",
    "    quantity_regex = r\"(\\d+(?:\\.\\d+)?|\\d+/\\d+)\"\n",
    "\n",
    "    # Case 1: Parentheses with optional x quantity\n",
    "    parentheses_match = re.search(rf\"^(.*?)\\s*\\((?P<quantity_parentheses>{quantity_regex})\\s*(?P<unit_parentheses>(?:g|kg|ml|l|tsp|tbsp|cup|oz|lb|pinch|dash|pcs)\\b)?\\)\\s*(?:x\\s*(?P<multiplier>\\d+(?:\\.\\d+)?))?$\", ingredient_str)\n",
    "    if parentheses_match:\n",
    "        name = parentheses_match.group(1).strip()\n",
    "        quantity_str = parentheses_match.group(\"quantity_parentheses\")\n",
    "        unit = parentheses_match.group(\"unit_parentheses\")\n",
    "        multiplier = parentheses_match.group(\"multiplier\")\n",
    "\n",
    "        quantity = float(quantity_str) if \".\" in quantity_str or quantity_str.isdigit() else parse_fraction(quantity_str)\n",
    "\n",
    "        if multiplier:\n",
    "            quantity *= float(multiplier)\n",
    "        return name, str(quantity), unit\n",
    "\n",
    "    # Case 2: Quantity x Name\n",
    "    quantity_x_start_match = re.search(rf\"^(?P<quantity_x_start>{quantity_regex})\\s*x\\s*(?P<name_x_start>.*)$\", ingredient_str)\n",
    "    if quantity_x_start_match:\n",
    "        quantity_str = quantity_x_start_match.group(\"quantity_x_start\")\n",
    "        quantity = float(quantity_str) if \".\" in quantity_str or quantity_str.isdigit() else parse_fraction(quantity_str)\n",
    "        return quantity_x_start_match.group(\"name_x_start\").strip(), str(quantity), None\n",
    "\n",
    "    # Case 3: Name x Quantity\n",
    "    name_x_end_match = re.search(rf\"^(?P<name_x_end>.*)\\s*x\\s*(?P<quantity_x_end>{quantity_regex})$\", ingredient_str)\n",
    "    if name_x_end_match:\n",
    "        quantity_str = name_x_end_match.group(\"quantity_x_end\")\n",
    "        quantity = float(quantity_str) if \".\" in quantity_str or quantity_str.isdigit() else parse_fraction(quantity_str)\n",
    "        return name_x_end_match.group(\"name_x_end\").strip(), str(quantity), None\n",
    "\n",
    "    # Case 4: Quantity Unit Name\n",
    "    quantity_unit_name_match = re.search(rf\"^(?P<quantity_unit_name>{quantity_regex})\\s*(?P<unit_unit_name>(?:g|kg|ml|l|tsp|tbsp|cup|oz|lb|pinch|dash|pcs)\\b)\\s*(?P<name_unit_name>.*)$\", ingredient_str)\n",
    "    if quantity_unit_name_match:\n",
    "        quantity_str = quantity_unit_name_match.group(\"quantity_unit_name\")\n",
    "        quantity = float(quantity_str) if \".\" in quantity_str or quantity_str.isdigit() else parse_fraction(quantity_str)\n",
    "        return quantity_unit_name_match.group(\"name_unit_name\").strip(), str(quantity), quantity_unit_name_match.group(\"unit_unit_name\")\n",
    "\n",
    "    # Case 5: Quantity Name\n",
    "    quantity_name_match = re.search(rf\"^(?P<quantity_name>{quantity_regex})\\s*(?P<name_name>.*)$\", ingredient_str)\n",
    "    if quantity_name_match:\n",
    "        quantity_str = quantity_name_match.group(\"quantity_name\")\n",
    "        quantity = float(quantity_str) if \".\" in quantity_str or quantity_str.isdigit() else parse_fraction(quantity_str)\n",
    "        return quantity_name_match.group(\"name_name\").strip(), str(quantity), None\n",
    "\n",
    "    # Case 6: Name Only\n",
    "    return ingredient_str, None, None"
   ],
   "metadata": {
    "collapsed": false,
    "ExecuteTime": {
     "end_time": "2025-03-13T08:45:39.245712600Z",
     "start_time": "2025-03-13T08:45:39.242344400Z"
    }
   },
   "id": "c3305484ffa03da1"
  },
  {
   "cell_type": "code",
   "execution_count": 10,
   "outputs": [],
   "source": [
    "def insert_recipe_data(recipe_data, db_path):\n",
    "    \"\"\"\n",
    "    Inserts the recipe information into the database.\n",
    "    \n",
    "    :param recipe_data: Dictionary of recipe data\n",
    "    :param db_path: Path to .sqlite database file in string format\n",
    "    :returns: None\n",
    "    \"\"\"\n",
    "    conn = sqlite3.connect(db_path)\n",
    "    cursor = conn.cursor()\n",
    "    cursor.execute(\"SELECT name FROM sqlite_master WHERE type='table';\")\n",
    "    tables = cursor.fetchall()\n",
    "    # Insert into the recipes table\n",
    "    cursor.execute(\"INSERT INTO recipes (title, instructions_url) VALUES (?, ?)\",\n",
    "                   (recipe_data['title'], recipe_data['url']))\n",
    "    # cursor.execute(\"INSERT INTO recipes (title, instructions_url) VALUES (?, ?)\",\n",
    "    # (recipe_data['title'], recipe_data['url'],))\n",
    "    recipe_id = cursor.lastrowid  # Get the newly inserted recipe ID\n",
    "\n",
    "    for line in recipe_data['ingredients']:\n",
    "        ingredient_name, quantity, unit = parse_ingredient(line)\n",
    "        ingredient_name = ingredient_name.lower()\n",
    "        # Check if the ingredient already exists\n",
    "        cursor.execute(\"SELECT ingredient_id FROM ingredients WHERE ingredient_name = ?\", (ingredient_name,))\n",
    "        existing_ingredient = cursor.fetchone()\n",
    "\n",
    "        if existing_ingredient:\n",
    "            ingredient_id = existing_ingredient[0]\n",
    "        else:\n",
    "            # Insert the new ingredient\n",
    "            cursor.execute(\"INSERT INTO ingredients (ingredient_name) VALUES (?)\", (ingredient_name,))\n",
    "            ingredient_id = cursor.lastrowid\n",
    "\n",
    "        # Insert into the recipe_ingredients table\n",
    "        cursor.execute(\"INSERT INTO recipe_ingredients (recipe_id, ingredient_id, quantity, unit) VALUES (?, ?, ?, ?)\",\n",
    "                       (recipe_id, ingredient_id, quantity, unit))\n",
    "\n",
    "    conn.commit()\n",
    "    conn.close()"
   ],
   "metadata": {
    "collapsed": false,
    "ExecuteTime": {
     "end_time": "2025-03-13T08:52:50.513897900Z",
     "start_time": "2025-03-13T08:52:50.511478300Z"
    }
   },
   "id": "43eb8b38499af5f4"
  },
  {
   "cell_type": "code",
   "execution_count": 5,
   "outputs": [],
   "source": [
    "def get_recipe_urls_from_category(category_url, driver):\n",
    "    \"\"\"\n",
    "    Returns a list of urls found on a target Gousto category page\n",
    "    \n",
    "    :param category_url: str\n",
    "    :param driver: WebDriver corresponding to Chrome version\n",
    "    :return: list of urls\n",
    "    \"\"\"\n",
    "    \n",
    "    \n",
    "    driver.get(category_url)\n",
    "    time.sleep(2) #allow page to load.\n",
    "    \n",
    "    try:\n",
    "        target_division = WebDriverWait(driver, 10).until(\n",
    "            EC.presence_of_element_located((By.CSS_SELECTOR, \".PageSection_verticalPaddingSmallMediumLarge__2sHrM\"))\n",
    "        )\n",
    "        # Find recipe links within the division\n",
    "        recipe_links = target_division.find_elements(By.CSS_SELECTOR, \"a[href*='/cookbook/']\")\n",
    "        urls = []\n",
    "        for link in recipe_links:\n",
    "            urls.append(link.get_attribute(\"href\"))\n",
    "        return urls\n",
    "\n",
    "    except Exception as e:\n",
    "        print(f\"Error scraping {category_url}: {e}\")\n",
    "        return []"
   ],
   "metadata": {
    "collapsed": false,
    "ExecuteTime": {
     "end_time": "2025-03-13T08:45:46.173791800Z",
     "start_time": "2025-03-13T08:45:46.167524700Z"
    }
   },
   "id": "565714f965e8b039"
  },
  {
   "cell_type": "code",
   "execution_count": 6,
   "outputs": [],
   "source": [
    "def scrape_all_gousto_recipes(category_url, driver):\n",
    "    \"\"\"\n",
    "    Scrapes a supplied list of Gousto recipe page urls for recipe data\n",
    "    \n",
    "    :param category_url: str\n",
    "    :param driver: WebDriver corresponding to Chrome version\n",
    "    :return: list of recipe datas\n",
    "    \"\"\"\n",
    "    visited_urls = set()\n",
    "    all_recipe_data = []\n",
    "\n",
    "    recipe_urls = get_recipe_urls_from_category(category_url, driver)\n",
    "    for recipe_url in recipe_urls:\n",
    "        if recipe_url not in visited_urls:\n",
    "            visited_urls.add(recipe_url)\n",
    "            recipe_data = scrape_gousto_recipe(recipe_url, driver)  # Your existing scrape function.\n",
    "            if recipe_data:\n",
    "                all_recipe_data.append(recipe_data)\n",
    "            time.sleep(1)  # Rate limiting.\n",
    "    return all_recipe_data"
   ],
   "metadata": {
    "collapsed": false,
    "ExecuteTime": {
     "end_time": "2025-03-13T08:45:49.958152Z",
     "start_time": "2025-03-13T08:45:49.957647500Z"
    }
   },
   "id": "d4de0a3b4d5fc5b8"
  },
  {
   "cell_type": "code",
   "execution_count": 11,
   "outputs": [],
   "source": [
    "category_url = 'https://www.gousto.co.uk/cookbook/recipes'\n",
    "\n",
    "service = Service(executable_path='chromedriver-win64/chromedriver.exe')  # Replace with your chromedriver path.\n",
    "driver = webdriver.Chrome(service=service)\n",
    "try:\n",
    "    all_recipe_data = scrape_all_gousto_recipes(category_url, driver)\n",
    "    # store all_recipe_data into the database.\n",
    "finally:\n",
    "    driver.quit()\n",
    "for i in all_recipe_data:\n",
    "    if i['ingredients']:\n",
    "        insert_recipe_data(i, 'recipes.sqlite')"
   ],
   "metadata": {
    "collapsed": false,
    "ExecuteTime": {
     "end_time": "2025-03-13T08:53:33.803718500Z",
     "start_time": "2025-03-13T08:52:53.546341Z"
    }
   },
   "id": "846dfc89b8653700"
  },
  {
   "cell_type": "code",
   "execution_count": 10,
   "outputs": [
    {
     "name": "stdout",
     "output_type": "stream",
     "text": [
      "('Ground turmeric', '1.0', 'tsp')\n",
      "('Red lentils', '100.0', 'g')\n",
      "('Coriander', '20.0', 'g')\n",
      "('Aubergine', None, None)\n",
      "('Curry powder', '1.0', 'tbsp')\n",
      "('Cider vinegar', '15.0', 'ml')\n",
      "('Solid creamed coconut', '50.0', 'g')\n",
      "('Vegetable stock mix', '11.0', 'g')\n",
      "('Shallot', '3', None)\n",
      "('Fresh root ginger', '15.0', 'g')\n",
      "('Black mustard seeds', '1.0', 'tsp')\n",
      "('White basmati rice', '130.0', 'g')\n",
      "('Garlic clove', '3', None)\n",
      "('Green chilli', None, None)\n"
     ]
    }
   ],
   "source": [
    "service = Service(executable_path='chromedriver-win64/chromedriver.exe')  # Replace with your chromedriver path.\n",
    "driver = webdriver.Chrome(service=service)\n",
    "troubleshoot = scrape_gousto_recipe('https://www.gousto.co.uk/cookbook/vegan-recipes/sri-lankan-coconut-dal-with-aubergine-pickle', driver)\n",
    "for line in troubleshoot['ingredients']:\n",
    "    print(parse_ingredient(line))\n",
    "#insert_recipe_data(troubleshoot, 'C:/Users/brxce/Documents/Python Projects/mealplanner/recipes.sqlite')\n",
    "driver.quit()"
   ],
   "metadata": {
    "collapsed": false,
    "ExecuteTime": {
     "end_time": "2025-03-11T00:03:12.012678700Z",
     "start_time": "2025-03-11T00:03:03.244513900Z"
    }
   },
   "id": "5a6696283a75a141"
  }
 ],
 "metadata": {
  "kernelspec": {
   "display_name": "Python 3",
   "language": "python",
   "name": "python3"
  },
  "language_info": {
   "codemirror_mode": {
    "name": "ipython",
    "version": 2
   },
   "file_extension": ".py",
   "mimetype": "text/x-python",
   "name": "python",
   "nbconvert_exporter": "python",
   "pygments_lexer": "ipython2",
   "version": "2.7.6"
  }
 },
 "nbformat": 4,
 "nbformat_minor": 5
}
