{
 "cells": [
  {
   "cell_type": "code",
   "execution_count": 2,
   "id": "initial_id",
   "metadata": {
    "collapsed": true,
    "ExecuteTime": {
     "end_time": "2025-03-10T15:01:21.897988700Z",
     "start_time": "2025-03-10T15:01:21.392966400Z"
    }
   },
   "outputs": [],
   "source": [
    "# Imports\n",
    "import requests\n",
    "from bs4 import BeautifulSoup\n",
    "import sqlite3\n",
    "import re\n",
    "from selenium import webdriver\n",
    "from selenium.webdriver.chrome.service import Service\n",
    "from selenium.webdriver.common.by import By\n",
    "from selenium.webdriver.support.ui import WebDriverWait\n",
    "from selenium.webdriver.support import expected_conditions as EC\n",
    "import sqlite3\n",
    "import time"
   ]
  },
  {
   "cell_type": "code",
   "execution_count": 3,
   "outputs": [],
   "source": [
    "def scrape_gousto_recipe(url, driver):\n",
    "    try:\n",
    "        driver.get(url)\n",
    "\n",
    "        # Wait for the main recipe title to load (adjust as needed)\n",
    "        WebDriverWait(driver, 10).until(\n",
    "            EC.presence_of_element_located((By.TAG_NAME, \"h1\"))\n",
    "        )\n",
    "\n",
    "        title = driver.find_element(By.TAG_NAME, \"h1\").text.strip() if driver.find_elements(By.TAG_NAME, \"h1\") else \"Title not found\"\n",
    "\n",
    "        ingredients_list = []\n",
    "        ingredients_elements = driver.find_elements(By.CSS_SELECTOR, \"ul.IngredientList_ingredientList__14UI0 li\")\n",
    "        for ingredient in ingredients_elements:\n",
    "            ingredients_list.append(ingredient.text.strip())\n",
    "        ingredients = \"\\n\".join(ingredients_list)\n",
    "\n",
    "        instructions_list = []\n",
    "        instructions_elements = driver.find_elements(By.CSS_SELECTOR, \"li[class*='instruction']\")# Adjust CSS selector\n",
    "        for instruction in instructions_elements:\n",
    "            instructions_list.append(instruction.text.strip())\n",
    "        instructions = \"\\n\".join(instructions_list)\n",
    "\n",
    "        # Extract meat type, portions, etc. (requires inspecting the website's HTML structure).\n",
    "        meat_type = \"To be determined\"\n",
    "        portions = \"To be determined\"\n",
    "\n",
    "        return {\n",
    "            'title': title,\n",
    "            'ingredients': ingredients,\n",
    "            'url': url\n",
    "        }\n",
    "\n",
    "    except Exception as e:\n",
    "        print(f\"Error scraping {url}: {e}\")\n",
    "        return None"
   ],
   "metadata": {
    "collapsed": false,
    "ExecuteTime": {
     "end_time": "2025-03-10T15:01:22.894225500Z",
     "start_time": "2025-03-10T15:01:22.889979700Z"
    }
   },
   "id": "c06f31611050ed8c"
  },
  {
   "cell_type": "code",
   "execution_count": 11,
   "outputs": [],
   "source": [
    "def parse_ingredient(ingredient_line):\n",
    "    \"\"\"\n",
    "    Parses an ingredient line into its name, quantity, and unit.\n",
    "\n",
    "    Args:\n",
    "        ingredient_line: The ingredient line string.\n",
    "\n",
    "    Returns:\n",
    "        A tuple containing (name, quantity, unit), or (name, None, None) if no quantity/unit found.\n",
    "    \"\"\"\n",
    "    ingredient_line.replace('†','')\n",
    "    pattern = r\"^(.*?)(?:\\s*\\(([\\d\\.]+)\\s*([a-zA-Z]*)\\))?(?:\\s*x(\\d+))?\\.?$\"\n",
    "    match = re.match(pattern, ingredient_line.strip())\n",
    "\n",
    "    if match:\n",
    "        name = match.group(1).strip()\n",
    "        quantity = match.group(2)\n",
    "        unit = match.group(3)\n",
    "        multiple = match.group(4)\n",
    "\n",
    "        if multiple:\n",
    "            if quantity:\n",
    "                quantity = float(quantity) * int(multiple)\n",
    "            else:\n",
    "                quantity = int(multiple)\n",
    "\n",
    "        if quantity:\n",
    "            return (name, float(quantity), unit) if unit else (name, float(quantity), None)\n",
    "        else:\n",
    "            return (name, None, None)\n",
    "    else:\n",
    "        return (ingredient_line.strip(), None, None)"
   ],
   "metadata": {
    "collapsed": false,
    "ExecuteTime": {
     "end_time": "2025-03-10T15:05:24.867903900Z",
     "start_time": "2025-03-10T15:05:24.865268100Z"
    }
   },
   "id": "c3305484ffa03da1"
  },
  {
   "cell_type": "code",
   "execution_count": 70,
   "outputs": [
    {
     "name": "stdout",
     "output_type": "stream",
     "text": [
      "('Red chilli', None, None)\n",
      "('Cornflour', 4.0, 'tbsp')\n",
      "('Spring onion', None, None)\n",
      "('Five-spice mix', 1.0, 'tsp')\n",
      "('Red pepper', None, None)\n",
      "('British chicken breast portions', 2.0, 'pcs')\n",
      "('Fresh root ginger', 15.0, 'g')\n",
      "('Red chilli relish', 25.0, 'g')\n",
      "('Garlic clove', 2.0, None)\n",
      "('Chinese rice wine', 15.0, 'ml')\n",
      "('Soy sauce', 15.0, 'ml')\n",
      "('White potato', 4.0, None)\n",
      "('Honey', 25.0, 'g')\n"
     ]
    }
   ],
   "source": [
    "for line in ingredients.split('\\n'):\n",
    "    print(parse_ingredient(line))"
   ],
   "metadata": {
    "collapsed": false,
    "ExecuteTime": {
     "end_time": "2025-03-10T14:09:03.843752400Z",
     "start_time": "2025-03-10T14:09:03.838460200Z"
    }
   },
   "id": "7ab5f6024b078a1f"
  },
  {
   "cell_type": "code",
   "execution_count": 12,
   "outputs": [],
   "source": [
    "def insert_recipe_data(recipe_data, db_path):\n",
    "    conn = sqlite3.connect(db_path)\n",
    "    cursor = conn.cursor()\n",
    "    cursor.execute(\"SELECT name FROM sqlite_master WHERE type='table';\")\n",
    "    tables = cursor.fetchall()\n",
    "    print(tables)\n",
    "    # Insert into the recipes table\n",
    "    cursor.execute(\"INSERT INTO recipes (title) VALUES (?)\",\n",
    "                   (recipe_data['title'],))\n",
    "    #cursor.execute(\"INSERT INTO recipes (title, instructions_url) VALUES (?, ?)\",\n",
    "                   #(recipe_data['title'], recipe_data['url'],))\n",
    "    recipe_id = cursor.lastrowid # Get the newly inserted recipe ID\n",
    "\n",
    "    for line in recipe_data['ingredients'].split('\\n'):\n",
    "        ingredient_name, quantity, unit = parse_ingredient(line)\n",
    "        # Check if the ingredient already exists\n",
    "        cursor.execute(\"SELECT ingredient_id FROM ingredients WHERE ingredient_name = ?\", (ingredient_name,))\n",
    "        existing_ingredient = cursor.fetchone()\n",
    "\n",
    "        if existing_ingredient:\n",
    "            ingredient_id = existing_ingredient[0]\n",
    "        else:\n",
    "            # Insert the new ingredient\n",
    "            cursor.execute(\"INSERT INTO ingredients (ingredient_name) VALUES (?)\", (ingredient_name,))\n",
    "            ingredient_id = cursor.lastrowid\n",
    "\n",
    "        # Insert into the recipe_ingredients table\n",
    "        cursor.execute(\"INSERT INTO recipe_ingredients (recipe_id, ingredient_id, quantity, unit) VALUES (?, ?, ?, ?)\",\n",
    "                       (recipe_id, ingredient_id, quantity, unit))\n",
    "        \n",
    "    # Insert ingredients and link them to the recipe\n",
    "#    for ingredient_name, quantity, unit in recipe_data['ingredients']:\n",
    "        # Check if the ingredient already exists\n",
    "#        cursor.execute(\"SELECT ingredient_id FROM ingredients WHERE ingredient_name = ?\", (ingredient_name,))\n",
    "#        existing_ingredient = cursor.fetchone()\n",
    "\n",
    "#        if existing_ingredient:\n",
    "#            ingredient_id = existing_ingredient[0]\n",
    "#        else:\n",
    "#            # Insert the new ingredient\n",
    "#            cursor.execute(\"INSERT INTO ingredients (ingredient_name) VALUES (?)\", (ingredient_name,))\n",
    "#            ingredient_id = cursor.lastrowid\n",
    "\n",
    "        # Insert into the recipe_ingredients table\n",
    "#        cursor.execute(\"INSERT INTO recipe_ingredients (recipe_id, ingredient_id, quantity, unit) VALUES (?, ?, ?, ?)\",\n",
    "#                       (recipe_id, ingredient_id, quantity, unit))\n",
    "\n",
    "    conn.commit()\n",
    "    conn.close()"
   ],
   "metadata": {
    "collapsed": false,
    "ExecuteTime": {
     "end_time": "2025-03-10T15:07:16.639454Z",
     "start_time": "2025-03-10T15:07:16.634260Z"
    }
   },
   "id": "43eb8b38499af5f4"
  },
  {
   "cell_type": "code",
   "execution_count": 10,
   "outputs": [],
   "source": [
    "conn = sqlite3.connect('recipes_test.db')\n",
    "cursor = conn.cursor()\n",
    "conn.commit()\n",
    "conn.close()"
   ],
   "metadata": {
    "collapsed": false,
    "ExecuteTime": {
     "end_time": "2025-03-10T14:49:01.740589700Z",
     "start_time": "2025-03-10T14:49:01.734499700Z"
    }
   },
   "id": "3790591c2ebe6b3a"
  },
  {
   "cell_type": "code",
   "execution_count": 13,
   "outputs": [
    {
     "name": "stdout",
     "output_type": "stream",
     "text": [
      "[('recipes',), ('ingredients',), ('recipe_ingredients',)]\n",
      "Recipe stored successfully!\n"
     ]
    }
   ],
   "source": [
    "service = Service(executable_path='chromedriver-win64/chromedriver.exe') # Replace with your chromedriver path.\n",
    "driver = webdriver.Chrome(service=service)\n",
    "url = 'https://www.gousto.co.uk/cookbook/recipes/sticky-chilli-chicken-breast-with-salt-pepper-chips'\n",
    "try:\n",
    "    recipe_data = scrape_gousto_recipe(url, driver)\n",
    "\n",
    "    if recipe_data:\n",
    "        insert_recipe_data(recipe_data, 'C:/Users/brxce/Documents/Python Projects/mealplanner/recipes.sqlite')\n",
    "        print(\"Recipe stored successfully!\")\n",
    "\n",
    "finally:\n",
    "    driver.quit()"
   ],
   "metadata": {
    "collapsed": false,
    "ExecuteTime": {
     "end_time": "2025-03-10T15:07:28.628990500Z",
     "start_time": "2025-03-10T15:07:20.031623100Z"
    }
   },
   "id": "3be21875b4d5a24"
  },
  {
   "cell_type": "code",
   "execution_count": 19,
   "outputs": [],
   "source": [
    "conn.close()"
   ],
   "metadata": {
    "collapsed": false,
    "ExecuteTime": {
     "end_time": "2025-03-10T14:49:52.119470400Z",
     "start_time": "2025-03-10T14:49:52.116967400Z"
    }
   },
   "id": "8c3733e42a2649fd"
  },
  {
   "cell_type": "code",
   "execution_count": 20,
   "outputs": [
    {
     "name": "stdout",
     "output_type": "stream",
     "text": [
      "Sticky Chicken With Salt & Pepper Chips\n"
     ]
    }
   ],
   "source": [
    "service = Service(executable_path='chromedriver-win64/chromedriver.exe') # Replace with your chromedriver path.\n",
    "driver = webdriver.Chrome(service=service)\n",
    "url = 'https://www.gousto.co.uk/cookbook/recipes/sticky-chilli-chicken-breast-with-salt-pepper-chips'\n",
    "recipe_data = scrape_gousto_recipe(url, driver)\n",
    "print(recipe_data['title'])"
   ],
   "metadata": {
    "collapsed": false,
    "ExecuteTime": {
     "end_time": "2025-03-10T14:50:01.046467Z",
     "start_time": "2025-03-10T14:49:54.420988700Z"
    }
   },
   "id": "e3956de02eebfa88"
  },
  {
   "cell_type": "code",
   "execution_count": 91,
   "outputs": [
    {
     "name": "stdout",
     "output_type": "stream",
     "text": [
      "39\n"
     ]
    }
   ],
   "source": [
    "print(len('Sticky Chicken With Salt & Pepper Chips'))"
   ],
   "metadata": {
    "collapsed": false,
    "ExecuteTime": {
     "end_time": "2025-03-10T14:18:53.397189800Z",
     "start_time": "2025-03-10T14:18:53.390112200Z"
    }
   },
   "id": "b8ca54cea9a4f8c"
  },
  {
   "cell_type": "code",
   "execution_count": 14,
   "outputs": [],
   "source": [
    "from selenium import webdriver\n",
    "from selenium.webdriver.chrome.service import Service\n",
    "from selenium.webdriver.common.by import By\n",
    "import time\n",
    "\n",
    "def get_recipe_urls_from_category(category_url, driver):\n",
    "    driver.get(category_url)\n",
    "    time.sleep(2) #allow page to load.\n",
    "    recipe_links = driver.find_elements(By.CSS_SELECTOR, \"a[href*='/cookbook/']\") #find all links containing cookbook\n",
    "    urls = []\n",
    "    for link in recipe_links:\n",
    "        urls.append(link.get_attribute(\"href\"))\n",
    "    return urls"
   ],
   "metadata": {
    "collapsed": false,
    "ExecuteTime": {
     "end_time": "2025-03-10T15:12:15.462475700Z",
     "start_time": "2025-03-10T15:12:15.455582200Z"
    }
   },
   "id": "99819413ee0a0957"
  },
  {
   "cell_type": "code",
   "execution_count": 19,
   "outputs": [],
   "source": [
    "service = Service(executable_path='chromedriver-win64/chromedriver.exe') # Replace with your chromedriver path.\n",
    "driver = webdriver.Chrome(service=service)\n",
    "urls = get_recipe_urls_from_category('https://www.gousto.co.uk/cookbook/', driver)\n",
    "driver.quit()"
   ],
   "metadata": {
    "collapsed": false,
    "ExecuteTime": {
     "end_time": "2025-03-10T15:19:31.674719200Z",
     "start_time": "2025-03-10T15:19:22.758249600Z"
    }
   },
   "id": "41d17b63f3d77500"
  },
  {
   "cell_type": "code",
   "execution_count": 20,
   "outputs": [
    {
     "data": {
      "text/plain": "{'https://www.gousto.co.uk/cookbook/',\n 'https://www.gousto.co.uk/cookbook/10-minute-meals',\n 'https://www.gousto.co.uk/cookbook/20-minute-meals',\n 'https://www.gousto.co.uk/cookbook/600-calorie-meals',\n 'https://www.gousto.co.uk/cookbook/american-recipes',\n 'https://www.gousto.co.uk/cookbook/asian-recipes',\n 'https://www.gousto.co.uk/cookbook/aubergine-recipes',\n 'https://www.gousto.co.uk/cookbook/avocado-recipes',\n 'https://www.gousto.co.uk/cookbook/bacon-recipes',\n 'https://www.gousto.co.uk/cookbook/beef',\n 'https://www.gousto.co.uk/cookbook/beef-pork',\n 'https://www.gousto.co.uk/cookbook/beef-recipes',\n 'https://www.gousto.co.uk/cookbook/beef-recipes/open-steak-sandwich-balsamic-onions-chips',\n 'https://www.gousto.co.uk/cookbook/beef-recipes/simply-perfect-beef-spag-bol',\n 'https://www.gousto.co.uk/cookbook/beetroot-recipes',\n 'https://www.gousto.co.uk/cookbook/burger-recipes',\n 'https://www.gousto.co.uk/cookbook/cauliflower-recipes',\n 'https://www.gousto.co.uk/cookbook/chicken',\n 'https://www.gousto.co.uk/cookbook/chicken-breast-recipes',\n 'https://www.gousto.co.uk/cookbook/chicken-recipes',\n 'https://www.gousto.co.uk/cookbook/chicken-recipes/chicken-stuffing-sarnie-with-plum-chutney',\n 'https://www.gousto.co.uk/cookbook/chicken-recipes/joes-popeyes-chicken-with-crispy-potatoes',\n 'https://www.gousto.co.uk/cookbook/chicken-thigh-recipes',\n 'https://www.gousto.co.uk/cookbook/chickpea-recipes',\n 'https://www.gousto.co.uk/cookbook/chilli-recipes',\n 'https://www.gousto.co.uk/cookbook/chinese-recipes',\n 'https://www.gousto.co.uk/cookbook/christmas-inspired',\n 'https://www.gousto.co.uk/cookbook/christmas-recipes',\n 'https://www.gousto.co.uk/cookbook/cod-recipes',\n 'https://www.gousto.co.uk/cookbook/curry-recipes',\n 'https://www.gousto.co.uk/cookbook/dairy-free',\n 'https://www.gousto.co.uk/cookbook/dairy-free-recipes',\n 'https://www.gousto.co.uk/cookbook/diy-pizza-base',\n 'https://www.gousto.co.uk/cookbook/easter',\n 'https://www.gousto.co.uk/cookbook/egg-recipes',\n 'https://www.gousto.co.uk/cookbook/everyday-favourites',\n 'https://www.gousto.co.uk/cookbook/family-classics',\n 'https://www.gousto.co.uk/cookbook/fathers-day',\n 'https://www.gousto.co.uk/cookbook/fish-recipes',\n 'https://www.gousto.co.uk/cookbook/fish-recipes/cheesy-cod-spinach-gratin-with-crispy-potatoes',\n 'https://www.gousto.co.uk/cookbook/flavour-saviour',\n 'https://www.gousto.co.uk/cookbook/flavours-of-mexico',\n 'https://www.gousto.co.uk/cookbook/french-recipes',\n 'https://www.gousto.co.uk/cookbook/gluten-free',\n 'https://www.gousto.co.uk/cookbook/gluten-free-recipes',\n 'https://www.gousto.co.uk/cookbook/gousto-x-marmite',\n 'https://www.gousto.co.uk/cookbook/greek-recipes',\n 'https://www.gousto.co.uk/cookbook/haddock-recipes',\n 'https://www.gousto.co.uk/cookbook/halloumi-recipes',\n 'https://www.gousto.co.uk/cookbook/healthy-choices',\n 'https://www.gousto.co.uk/cookbook/indian-recipes',\n 'https://www.gousto.co.uk/cookbook/indulge',\n 'https://www.gousto.co.uk/cookbook/italian-recipes',\n 'https://www.gousto.co.uk/cookbook/japanese-recipes',\n 'https://www.gousto.co.uk/cookbook/kale-recipes',\n 'https://www.gousto.co.uk/cookbook/lamb-recipes',\n 'https://www.gousto.co.uk/cookbook/lean-in-15',\n 'https://www.gousto.co.uk/cookbook/leek-recipes',\n 'https://www.gousto.co.uk/cookbook/lentil-recipes',\n 'https://www.gousto.co.uk/cookbook/lighter',\n 'https://www.gousto.co.uk/cookbook/low-calorie-recipes',\n 'https://www.gousto.co.uk/cookbook/meatball-recipes',\n 'https://www.gousto.co.uk/cookbook/mediterranean-recipes',\n 'https://www.gousto.co.uk/cookbook/mexican-recipes',\n 'https://www.gousto.co.uk/cookbook/mince-recipes',\n 'https://www.gousto.co.uk/cookbook/moroccan-recipes',\n 'https://www.gousto.co.uk/cookbook/mushroom-recipes',\n 'https://www.gousto.co.uk/cookbook/noodle-recipes',\n 'https://www.gousto.co.uk/cookbook/one-pot-meals',\n 'https://www.gousto.co.uk/cookbook/other-meats',\n 'https://www.gousto.co.uk/cookbook/oven-ready',\n 'https://www.gousto.co.uk/cookbook/pasta-recipes',\n 'https://www.gousto.co.uk/cookbook/plant-based',\n 'https://www.gousto.co.uk/cookbook/plant-based-recipes',\n 'https://www.gousto.co.uk/cookbook/plant-bistro',\n 'https://www.gousto.co.uk/cookbook/pork-fillet-recipes',\n 'https://www.gousto.co.uk/cookbook/pork-recipes',\n 'https://www.gousto.co.uk/cookbook/pork-recipes/sticky-chinese-pork-chops-sesame-pak-choi',\n 'https://www.gousto.co.uk/cookbook/prawn-recipes',\n 'https://www.gousto.co.uk/cookbook/prepped-in-5',\n 'https://www.gousto.co.uk/cookbook/pumpkin-recipes',\n 'https://www.gousto.co.uk/cookbook/quinoa-recipes',\n 'https://www.gousto.co.uk/cookbook/recipes',\n 'https://www.gousto.co.uk/cookbook/recipes/beetroot-wellington-with-onion-gravy',\n 'https://www.gousto.co.uk/cookbook/recipes/cheesy-pizza-topped-chicken-with-mixed-salad',\n 'https://www.gousto.co.uk/cookbook/recipes/chicken-date-tamarind-curry-with-brown-rice',\n 'https://www.gousto.co.uk/cookbook/recipes/plant-based-butternut-squash-mac-n-cheeze',\n 'https://www.gousto.co.uk/cookbook/recipes/plant-based-smoky-bacon-fried-rice',\n 'https://www.gousto.co.uk/cookbook/recipes/speedy-ginger-chilli-prawns-with-rice',\n 'https://www.gousto.co.uk/cookbook/recipes/speedy-harissa-tomato-chicken-with-couscous',\n 'https://www.gousto.co.uk/cookbook/recipes/spicy-rainbow-veg-black-bean-curry',\n 'https://www.gousto.co.uk/cookbook/recipes/tofu-fingers-minty-peas-tartare-sauce',\n 'https://www.gousto.co.uk/cookbook/red-cabbage-recipes',\n 'https://www.gousto.co.uk/cookbook/rice-recipes',\n 'https://www.gousto.co.uk/cookbook/risotto-recipes',\n 'https://www.gousto.co.uk/cookbook/salad-recipes',\n 'https://www.gousto.co.uk/cookbook/salmon-recipes',\n 'https://www.gousto.co.uk/cookbook/sausage-recipes',\n 'https://www.gousto.co.uk/cookbook/sea-bass-recipes',\n 'https://www.gousto.co.uk/cookbook/soup-recipes',\n 'https://www.gousto.co.uk/cookbook/spanish-recipes',\n 'https://www.gousto.co.uk/cookbook/steak-recipes',\n 'https://www.gousto.co.uk/cookbook/stew-recipes',\n 'https://www.gousto.co.uk/cookbook/stir-fry-recipes',\n 'https://www.gousto.co.uk/cookbook/sweet-potato-recipes',\n 'https://www.gousto.co.uk/cookbook/thai-recipes',\n 'https://www.gousto.co.uk/cookbook/tofu-recipes',\n 'https://www.gousto.co.uk/cookbook/turkey-recipes',\n 'https://www.gousto.co.uk/cookbook/turkish-recipes',\n 'https://www.gousto.co.uk/cookbook/valentines-day',\n 'https://www.gousto.co.uk/cookbook/vegan-recipes',\n 'https://www.gousto.co.uk/cookbook/vegan-recipes/tofu-nuggets-bbq-beans-wedges',\n 'https://www.gousto.co.uk/cookbook/vegetarian',\n 'https://www.gousto.co.uk/cookbook/vegetarian-recipes',\n 'https://www.gousto.co.uk/cookbook/vietnamese-recipes',\n 'https://www.gousto.co.uk/cookbook/world-food'}"
     },
     "execution_count": 20,
     "metadata": {},
     "output_type": "execute_result"
    }
   ],
   "source": [
    "set(urls)"
   ],
   "metadata": {
    "collapsed": false,
    "ExecuteTime": {
     "end_time": "2025-03-10T15:20:33.384525600Z",
     "start_time": "2025-03-10T15:20:33.374740600Z"
    }
   },
   "id": "c69e2b2c23170ff7"
  },
  {
   "cell_type": "code",
   "execution_count": 22,
   "outputs": [],
   "source": [
    "urls = ['https://www.gousto.co.uk/cookbook/10-minute-meals?page=12',\n",
    " 'https://www.gousto.co.uk/cookbook/20-minute-meals?page=7',\n",
    " 'https://www.gousto.co.uk/cookbook/600-calorie-meals',\n",
    " 'https://www.gousto.co.uk/cookbook/american-recipes',\n",
    " 'https://www.gousto.co.uk/cookbook/asian-recipes',\n",
    " 'https://www.gousto.co.uk/cookbook/aubergine-recipes',\n",
    " 'https://www.gousto.co.uk/cookbook/avocado-recipes',\n",
    " 'https://www.gousto.co.uk/cookbook/bacon-recipes',\n",
    " 'https://www.gousto.co.uk/cookbook/beef',\n",
    " 'https://www.gousto.co.uk/cookbook/beef-pork',\n",
    " 'https://www.gousto.co.uk/cookbook/beef-recipes',\n",
    " 'https://www.gousto.co.uk/cookbook/beef-recipes/open-steak-sandwich-balsamic-onions-chips',\n",
    " 'https://www.gousto.co.uk/cookbook/beef-recipes/simply-perfect-beef-spag-bol',\n",
    " 'https://www.gousto.co.uk/cookbook/beetroot-recipes',\n",
    " 'https://www.gousto.co.uk/cookbook/burger-recipes',\n",
    " 'https://www.gousto.co.uk/cookbook/cauliflower-recipes',\n",
    " 'https://www.gousto.co.uk/cookbook/chicken',\n",
    " 'https://www.gousto.co.uk/cookbook/chicken-breast-recipes',\n",
    " 'https://www.gousto.co.uk/cookbook/chicken-recipes',\n",
    " 'https://www.gousto.co.uk/cookbook/chicken-recipes/chicken-stuffing-sarnie-with-plum-chutney',\n",
    " 'https://www.gousto.co.uk/cookbook/chicken-recipes/joes-popeyes-chicken-with-crispy-potatoes',\n",
    " 'https://www.gousto.co.uk/cookbook/chicken-thigh-recipes',\n",
    " 'https://www.gousto.co.uk/cookbook/chickpea-recipes',\n",
    " 'https://www.gousto.co.uk/cookbook/chilli-recipes',\n",
    " 'https://www.gousto.co.uk/cookbook/chinese-recipes',\n",
    " 'https://www.gousto.co.uk/cookbook/christmas-inspired',\n",
    " 'https://www.gousto.co.uk/cookbook/christmas-recipes',\n",
    " 'https://www.gousto.co.uk/cookbook/cod-recipes',\n",
    " 'https://www.gousto.co.uk/cookbook/curry-recipes',\n",
    " 'https://www.gousto.co.uk/cookbook/dairy-free',\n",
    " 'https://www.gousto.co.uk/cookbook/dairy-free-recipes',\n",
    " 'https://www.gousto.co.uk/cookbook/diy-pizza-base',\n",
    " 'https://www.gousto.co.uk/cookbook/easter',\n",
    " 'https://www.gousto.co.uk/cookbook/egg-recipes',\n",
    " 'https://www.gousto.co.uk/cookbook/everyday-favourites',\n",
    " 'https://www.gousto.co.uk/cookbook/family-classics',\n",
    " 'https://www.gousto.co.uk/cookbook/fathers-day',\n",
    " 'https://www.gousto.co.uk/cookbook/fish-recipes',\n",
    " 'https://www.gousto.co.uk/cookbook/fish-recipes/cheesy-cod-spinach-gratin-with-crispy-potatoes',\n",
    " 'https://www.gousto.co.uk/cookbook/flavour-saviour',\n",
    " 'https://www.gousto.co.uk/cookbook/flavours-of-mexico',\n",
    " 'https://www.gousto.co.uk/cookbook/french-recipes',\n",
    " 'https://www.gousto.co.uk/cookbook/gluten-free',\n",
    " 'https://www.gousto.co.uk/cookbook/gluten-free-recipes',\n",
    " 'https://www.gousto.co.uk/cookbook/gousto-x-marmite',\n",
    " 'https://www.gousto.co.uk/cookbook/greek-recipes',\n",
    " 'https://www.gousto.co.uk/cookbook/haddock-recipes',\n",
    " 'https://www.gousto.co.uk/cookbook/halloumi-recipes',\n",
    " 'https://www.gousto.co.uk/cookbook/healthy-choices',\n",
    " 'https://www.gousto.co.uk/cookbook/indian-recipes',\n",
    " 'https://www.gousto.co.uk/cookbook/indulge',\n",
    " 'https://www.gousto.co.uk/cookbook/italian-recipes',\n",
    " 'https://www.gousto.co.uk/cookbook/japanese-recipes',\n",
    " 'https://www.gousto.co.uk/cookbook/kale-recipes',\n",
    " 'https://www.gousto.co.uk/cookbook/lamb-recipes',\n",
    " 'https://www.gousto.co.uk/cookbook/lean-in-15',\n",
    " 'https://www.gousto.co.uk/cookbook/leek-recipes',\n",
    " 'https://www.gousto.co.uk/cookbook/lentil-recipes',\n",
    " 'https://www.gousto.co.uk/cookbook/lighter',\n",
    " 'https://www.gousto.co.uk/cookbook/low-calorie-recipes',\n",
    " 'https://www.gousto.co.uk/cookbook/meatball-recipes',\n",
    " 'https://www.gousto.co.uk/cookbook/mediterranean-recipes',\n",
    " 'https://www.gousto.co.uk/cookbook/mexican-recipes',\n",
    " 'https://www.gousto.co.uk/cookbook/mince-recipes',\n",
    " 'https://www.gousto.co.uk/cookbook/moroccan-recipes',\n",
    " 'https://www.gousto.co.uk/cookbook/mushroom-recipes',\n",
    " 'https://www.gousto.co.uk/cookbook/noodle-recipes',\n",
    " 'https://www.gousto.co.uk/cookbook/one-pot-meals',\n",
    " 'https://www.gousto.co.uk/cookbook/other-meats',\n",
    " 'https://www.gousto.co.uk/cookbook/oven-ready',\n",
    " 'https://www.gousto.co.uk/cookbook/pasta-recipes',\n",
    " 'https://www.gousto.co.uk/cookbook/plant-based',\n",
    " 'https://www.gousto.co.uk/cookbook/plant-based-recipes',\n",
    " 'https://www.gousto.co.uk/cookbook/plant-bistro',\n",
    " 'https://www.gousto.co.uk/cookbook/pork-fillet-recipes',\n",
    " 'https://www.gousto.co.uk/cookbook/pork-recipes',\n",
    " 'https://www.gousto.co.uk/cookbook/pork-recipes/sticky-chinese-pork-chops-sesame-pak-choi',\n",
    " 'https://www.gousto.co.uk/cookbook/prawn-recipes',\n",
    " 'https://www.gousto.co.uk/cookbook/prepped-in-5',\n",
    " 'https://www.gousto.co.uk/cookbook/pumpkin-recipes',\n",
    " 'https://www.gousto.co.uk/cookbook/quinoa-recipes',\n",
    " 'https://www.gousto.co.uk/cookbook/recipes',\n",
    " 'https://www.gousto.co.uk/cookbook/recipes/beetroot-wellington-with-onion-gravy',\n",
    " 'https://www.gousto.co.uk/cookbook/recipes/cheesy-pizza-topped-chicken-with-mixed-salad',\n",
    " 'https://www.gousto.co.uk/cookbook/recipes/chicken-date-tamarind-curry-with-brown-rice',\n",
    " 'https://www.gousto.co.uk/cookbook/recipes/plant-based-butternut-squash-mac-n-cheeze',\n",
    " 'https://www.gousto.co.uk/cookbook/recipes/plant-based-smoky-bacon-fried-rice',\n",
    " 'https://www.gousto.co.uk/cookbook/recipes/speedy-ginger-chilli-prawns-with-rice',\n",
    " 'https://www.gousto.co.uk/cookbook/recipes/speedy-harissa-tomato-chicken-with-couscous',\n",
    " 'https://www.gousto.co.uk/cookbook/recipes/spicy-rainbow-veg-black-bean-curry',\n",
    " 'https://www.gousto.co.uk/cookbook/recipes/tofu-fingers-minty-peas-tartare-sauce',\n",
    " 'https://www.gousto.co.uk/cookbook/red-cabbage-recipes',\n",
    " 'https://www.gousto.co.uk/cookbook/rice-recipes',\n",
    " 'https://www.gousto.co.uk/cookbook/risotto-recipes',\n",
    " 'https://www.gousto.co.uk/cookbook/salad-recipes',\n",
    " 'https://www.gousto.co.uk/cookbook/salmon-recipes',\n",
    " 'https://www.gousto.co.uk/cookbook/sausage-recipes',\n",
    " 'https://www.gousto.co.uk/cookbook/sea-bass-recipes',\n",
    " 'https://www.gousto.co.uk/cookbook/soup-recipes',\n",
    " 'https://www.gousto.co.uk/cookbook/spanish-recipes',\n",
    " 'https://www.gousto.co.uk/cookbook/steak-recipes',\n",
    " 'https://www.gousto.co.uk/cookbook/stew-recipes',\n",
    " 'https://www.gousto.co.uk/cookbook/stir-fry-recipes',\n",
    " 'https://www.gousto.co.uk/cookbook/sweet-potato-recipes',\n",
    " 'https://www.gousto.co.uk/cookbook/thai-recipes',\n",
    " 'https://www.gousto.co.uk/cookbook/tofu-recipes',\n",
    " 'https://www.gousto.co.uk/cookbook/turkey-recipes',\n",
    " 'https://www.gousto.co.uk/cookbook/turkish-recipes',\n",
    " 'https://www.gousto.co.uk/cookbook/valentines-day',\n",
    " 'https://www.gousto.co.uk/cookbook/vegan-recipes',\n",
    " 'https://www.gousto.co.uk/cookbook/vegan-recipes/tofu-nuggets-bbq-beans-wedges',\n",
    " 'https://www.gousto.co.uk/cookbook/vegetarian',\n",
    " 'https://www.gousto.co.uk/cookbook/vegetarian-recipes',\n",
    " 'https://www.gousto.co.uk/cookbook/vietnamese-recipes',\n",
    " 'https://www.gousto.co.uk/cookbook/world-food']"
   ],
   "metadata": {
    "collapsed": false,
    "ExecuteTime": {
     "end_time": "2025-03-10T15:23:38.246164400Z",
     "start_time": "2025-03-10T15:23:38.241778600Z"
    }
   },
   "id": "e0a1a5ebeb2b6c8b"
  },
  {
   "cell_type": "code",
   "execution_count": 24,
   "outputs": [],
   "source": [
    "urls = ['https://www.gousto.co.uk/cookbook/10-minute-meals']"
   ],
   "metadata": {
    "collapsed": false,
    "ExecuteTime": {
     "end_time": "2025-03-10T15:24:16.600171500Z",
     "start_time": "2025-03-10T15:24:16.590317300Z"
    }
   },
   "id": "523e8db0ee36dea3"
  },
  {
   "cell_type": "code",
   "execution_count": 26,
   "outputs": [],
   "source": [
    "def get_recipe_urls_from_category(category_url, driver):\n",
    "    driver.get(category_url)\n",
    "    time.sleep(2) #allow page to load.\n",
    "    recipe_links = driver.find_elements(By.CSS_SELECTOR, \"a[href*='/cookbook/']\") #find all links containing cookbook\n",
    "    urls = []\n",
    "    for link in recipe_links:\n",
    "        urls.append(link.get_attribute(\"href\"))\n",
    "    return urls\n",
    "\n",
    "def scrape_all_gousto_recipes(category_urls, driver):\n",
    "    visited_urls = set()\n",
    "    all_recipe_data = []\n",
    "\n",
    "    for category_url in category_urls:\n",
    "        recipe_urls = get_recipe_urls_from_category(category_url, driver)\n",
    "        for recipe_url in recipe_urls:\n",
    "            if recipe_url not in visited_urls:\n",
    "                visited_urls.add(recipe_url)\n",
    "                recipe_data = scrape_gousto_recipe(recipe_url, driver) #your existing scrape function.\n",
    "                if recipe_data:\n",
    "                    all_recipe_data.append(recipe_data)\n",
    "                time.sleep(1) #rate limiting.\n",
    "    return all_recipe_data"
   ],
   "metadata": {
    "collapsed": false,
    "ExecuteTime": {
     "end_time": "2025-03-10T15:24:26.012280Z",
     "start_time": "2025-03-10T15:24:26.004586800Z"
    }
   },
   "id": "a7b7037e76b099f3"
  },
  {
   "cell_type": "code",
   "execution_count": 27,
   "outputs": [],
   "source": [
    "service = Service(executable_path='chromedriver-win64/chromedriver.exe') # Replace with your chromedriver path.\n",
    "driver = webdriver.Chrome(service=service)\n",
    "category_urls = urls\n",
    "\n",
    "try:\n",
    "    all_recipe_data = scrape_all_gousto_recipes(category_urls, driver)\n",
    "    #store all_recipe_data into the database.\n",
    "finally:\n",
    "    driver.quit()"
   ],
   "metadata": {
    "collapsed": false,
    "ExecuteTime": {
     "end_time": "2025-03-10T15:27:49.392064500Z",
     "start_time": "2025-03-10T15:24:27.590272200Z"
    }
   },
   "id": "3fbcb3c0e5a53837"
  },
  {
   "cell_type": "code",
   "execution_count": 35,
   "outputs": [
    {
     "name": "stdout",
     "output_type": "stream",
     "text": [
      "[('recipes',), ('ingredients',), ('recipe_ingredients',)]\n",
      "[('recipes',), ('ingredients',), ('recipe_ingredients',)]\n",
      "[('recipes',), ('ingredients',), ('recipe_ingredients',)]\n",
      "[('recipes',), ('ingredients',), ('recipe_ingredients',)]\n",
      "[('recipes',), ('ingredients',), ('recipe_ingredients',)]\n",
      "[('recipes',), ('ingredients',), ('recipe_ingredients',)]\n",
      "[('recipes',), ('ingredients',), ('recipe_ingredients',)]\n",
      "[('recipes',), ('ingredients',), ('recipe_ingredients',)]\n",
      "[('recipes',), ('ingredients',), ('recipe_ingredients',)]\n",
      "[('recipes',), ('ingredients',), ('recipe_ingredients',)]\n",
      "[('recipes',), ('ingredients',), ('recipe_ingredients',)]\n",
      "[('recipes',), ('ingredients',), ('recipe_ingredients',)]\n",
      "[('recipes',), ('ingredients',), ('recipe_ingredients',)]\n",
      "[('recipes',), ('ingredients',), ('recipe_ingredients',)]\n",
      "[('recipes',), ('ingredients',), ('recipe_ingredients',)]\n",
      "[('recipes',), ('ingredients',), ('recipe_ingredients',)]\n"
     ]
    }
   ],
   "source": [
    "for i in all_recipe_data:\n",
    "    if i['ingredients']:\n",
    "        insert_recipe_data(i, 'C:/Users/brxce/Documents/Python Projects/mealplanner/recipes.sqlite')"
   ],
   "metadata": {
    "collapsed": false,
    "ExecuteTime": {
     "end_time": "2025-03-10T15:39:41.713228Z",
     "start_time": "2025-03-10T15:39:41.661852500Z"
    }
   },
   "id": "9334a496b0dc1ab6"
  },
  {
   "cell_type": "code",
   "execution_count": 30,
   "outputs": [
    {
     "name": "stdout",
     "output_type": "stream",
     "text": [
      "[('recipes',), ('ingredients',), ('recipe_ingredients',)]\n"
     ]
    },
    {
     "ename": "TypeError",
     "evalue": "list indices must be integers or slices, not str",
     "output_type": "error",
     "traceback": [
      "\u001B[1;31m---------------------------------------------------------------------------\u001B[0m",
      "\u001B[1;31mTypeError\u001B[0m                                 Traceback (most recent call last)",
      "Cell \u001B[1;32mIn[30], line 1\u001B[0m\n\u001B[1;32m----> 1\u001B[0m insert_recipe_data(all_recipe_data, \u001B[38;5;124m'\u001B[39m\u001B[38;5;124mC:/Users/brxce/Documents/Python Projects/mealplanner/recipes.sqlite\u001B[39m\u001B[38;5;124m'\u001B[39m)\n",
      "Cell \u001B[1;32mIn[12], line 9\u001B[0m, in \u001B[0;36minsert_recipe_data\u001B[1;34m(recipe_data, db_path)\u001B[0m\n\u001B[0;32m      6\u001B[0m \u001B[38;5;28mprint\u001B[39m(tables)\n\u001B[0;32m      7\u001B[0m \u001B[38;5;66;03m# Insert into the recipes table\u001B[39;00m\n\u001B[0;32m      8\u001B[0m cursor\u001B[38;5;241m.\u001B[39mexecute(\u001B[38;5;124m\"\u001B[39m\u001B[38;5;124mINSERT INTO recipes (title) VALUES (?)\u001B[39m\u001B[38;5;124m\"\u001B[39m,\n\u001B[1;32m----> 9\u001B[0m                (recipe_data[\u001B[38;5;124m'\u001B[39m\u001B[38;5;124mtitle\u001B[39m\u001B[38;5;124m'\u001B[39m],))\n\u001B[0;32m     10\u001B[0m \u001B[38;5;66;03m#cursor.execute(\"INSERT INTO recipes (title, instructions_url) VALUES (?, ?)\",\u001B[39;00m\n\u001B[0;32m     11\u001B[0m                \u001B[38;5;66;03m#(recipe_data['title'], recipe_data['url'],))\u001B[39;00m\n\u001B[0;32m     12\u001B[0m recipe_id \u001B[38;5;241m=\u001B[39m cursor\u001B[38;5;241m.\u001B[39mlastrowid \u001B[38;5;66;03m# Get the newly inserted recipe ID\u001B[39;00m\n",
      "\u001B[1;31mTypeError\u001B[0m: list indices must be integers or slices, not str"
     ]
    }
   ],
   "source": [
    "insert_recipe_data(all_recipe_data, 'C:/Users/brxce/Documents/Python Projects/mealplanner/recipes.sqlite')"
   ],
   "metadata": {
    "collapsed": false,
    "ExecuteTime": {
     "end_time": "2025-03-10T15:36:01.825755700Z",
     "start_time": "2025-03-10T15:36:01.797528900Z"
    }
   },
   "id": "cffc8da6210aa73"
  },
  {
   "cell_type": "code",
   "execution_count": 41,
   "outputs": [
    {
     "data": {
      "text/plain": "{'title': 'Speedy',\n 'ingredients': '',\n 'url': 'https://www.gousto.co.uk/cookbook/20-minute-meals'}"
     },
     "execution_count": 41,
     "metadata": {},
     "output_type": "execute_result"
    }
   ],
   "source": [
    "service = Service(executable_path='chromedriver-win64/chromedriver.exe') # Replace with your chromedriver path.\n",
    "driver = webdriver.Chrome(service=service)\n",
    "url = 'https://www.gousto.co.uk/cookbook/20-minute-meals'\n",
    "scrape_gousto_recipe(url, driver)"
   ],
   "metadata": {
    "collapsed": false,
    "ExecuteTime": {
     "end_time": "2025-03-10T16:06:57.875764Z",
     "start_time": "2025-03-10T16:06:52.708527900Z"
    }
   },
   "id": "38f2d5523dc17aac"
  }
 ],
 "metadata": {
  "kernelspec": {
   "display_name": "Python 3",
   "language": "python",
   "name": "python3"
  },
  "language_info": {
   "codemirror_mode": {
    "name": "ipython",
    "version": 2
   },
   "file_extension": ".py",
   "mimetype": "text/x-python",
   "name": "python",
   "nbconvert_exporter": "python",
   "pygments_lexer": "ipython2",
   "version": "2.7.6"
  }
 },
 "nbformat": 4,
 "nbformat_minor": 5
}
