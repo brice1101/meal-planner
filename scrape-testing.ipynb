{
 "cells": [
  {
   "cell_type": "code",
   "execution_count": 1,
   "id": "initial_id",
   "metadata": {
    "collapsed": true,
    "ExecuteTime": {
     "end_time": "2025-03-10T22:18:02.135645200Z",
     "start_time": "2025-03-10T22:18:02.023557100Z"
    }
   },
   "outputs": [],
   "source": [
    "# Imports\n",
    "import re\n",
    "from selenium.webdriver.support.ui import WebDriverWait\n",
    "from selenium.webdriver.support import expected_conditions as EC\n",
    "from selenium import webdriver\n",
    "from selenium.webdriver.chrome.service import Service\n",
    "from selenium.webdriver.common.by import By\n",
    "import sqlite3\n",
    "import time"
   ]
  },
  {
   "cell_type": "code",
   "execution_count": 3,
   "outputs": [],
   "source": [
    "def scrape_gousto_recipe(url, driver):\n",
    "    \"\"\"\n",
    "    Scrapes recipe information from a Gousto recipe webpage.\n",
    "\n",
    "    This function uses Selenium to navigate to the provided URL, waits for the page to load,\n",
    "    and extracts the recipe title, ingredients, and instructions. It handles potential errors\n",
    "    during the scraping process and returns a dictionary containing the extracted data.\n",
    "\n",
    "    Args:\n",
    "        url (str): The URL of the Gousto recipe webpage.\n",
    "        driver (selenium.webdriver.remote.webdriver.WebDriver): The Selenium WebDriver instance.\n",
    "\n",
    "    Returns:\n",
    "        dict: A dictionary containing the scraped recipe data, including:\n",
    "            - 'title' (str): The recipe title.\n",
    "            - 'ingredients' (str): A newline-separated string of ingredients.\n",
    "            - 'url' (str): The URL of the scraped recipe.\n",
    "        None: If an error occurs during scraping.\n",
    "    \"\"\"\n",
    "\n",
    "    try:\n",
    "        driver.get(url)\n",
    "\n",
    "        # Wait for the main recipe title to load\n",
    "        WebDriverWait(driver, 10).until(\n",
    "            EC.presence_of_element_located((By.TAG_NAME, \"h1\"))\n",
    "        )\n",
    "\n",
    "        # Get heading of page, corresponding to recipe title\n",
    "        title = driver.find_element(By.TAG_NAME, \"h1\").text.strip() if driver.find_elements(By.TAG_NAME, \"h1\") else \"Title not found\"\n",
    "\n",
    "        # Get the list of ingredients\n",
    "        ingredients_list = []\n",
    "        ingredients_elements = driver.find_elements(By.CSS_SELECTOR, \"ul.IngredientList_ingredientList__14UI0 li\")\n",
    "        for ingredient in ingredients_elements:\n",
    "            ingredients_list.append(ingredient.text.strip())\n",
    "        \n",
    "        # Remove duplicates found in some erroneous ingredient lists\n",
    "        unique_ingredients = list(set(ingredients_list))\n",
    "\n",
    "        # Return a dictionary with necessary information\n",
    "        return {\n",
    "            'title': title,\n",
    "            'ingredients': unique_ingredients,\n",
    "            'url': url\n",
    "        }\n",
    "\n",
    "    # Handle exceptions during scraping by returning None instead\n",
    "    except Exception as e:\n",
    "        print(f\"Error scraping {url}: {e}\")\n",
    "        return None"
   ],
   "metadata": {
    "collapsed": false,
    "ExecuteTime": {
     "end_time": "2025-03-10T22:18:06.901772900Z",
     "start_time": "2025-03-10T22:18:06.897529500Z"
    }
   },
   "id": "c06f31611050ed8c"
  },
  {
   "cell_type": "code",
   "execution_count": 4,
   "outputs": [],
   "source": [
    "def parse_ingredient(ingredient_line):\n",
    "    \"\"\"\n",
    "    Parses an ingredient line to extract the ingredient name, quantity, and unit.\n",
    "\n",
    "    This function uses a regular expression to parse ingredient lines that may contain\n",
    "    quantity, unit, and multiple values within parentheses or preceded by \"x\".\n",
    "    It handles various formats and returns a tuple containing the parsed information.\n",
    "\n",
    "    Args:\n",
    "        ingredient_line (str): The ingredient line to parse.\n",
    "\n",
    "    Returns:\n",
    "        tuple: A tuple containing (name, quantity, unit), where:\n",
    "            - name (str): The name of the ingredient.\n",
    "            - quantity (float or int or None): The quantity of the ingredient (if specified), or None.\n",
    "            - unit (str or None): The unit of the ingredient (if specified), or None.\n",
    "\n",
    "    Examples:\n",
    "        >>> parse_ingredient(\"Chicken breast (200g)\")\n",
    "        ('Chicken breast', 200.0, 'g')\n",
    "        >>> parse_ingredient(\"Onion x2\")\n",
    "        ('Onion', 2.0, None)\n",
    "        >>> parse_ingredient(\"Salt\")\n",
    "        ('Salt', None, None)\n",
    "    \"\"\"\n",
    "    ingredient_line = ingredient_line.replace('†','') # Remove allergen marker from ingredients where needed\n",
    "    pattern = r\"^(.*?)(?:\\s*\\(([\\d\\.]+)\\s*([a-zA-Z]*)\\))?(?:\\s*x(\\d+))?\\.?$\" # Regex\n",
    "    match = re.match(pattern, ingredient_line.strip())\n",
    "\n",
    "    if match:\n",
    "        name = match.group(1).strip()\n",
    "        quantity = match.group(2)\n",
    "        unit = match.group(3)\n",
    "        multiple = match.group(4)\n",
    "\n",
    "        if multiple:\n",
    "            if quantity:\n",
    "                quantity = float(quantity) * int(multiple)\n",
    "            else:\n",
    "                quantity = int(multiple)\n",
    "\n",
    "        if quantity:\n",
    "            return (name, float(quantity), unit) if unit else (name, float(quantity), None)\n",
    "        else:\n",
    "            return (name, None, None)\n",
    "    else:\n",
    "        return (ingredient_line.strip(), None, None)"
   ],
   "metadata": {
    "collapsed": false,
    "ExecuteTime": {
     "end_time": "2025-03-10T22:18:08.444057200Z",
     "start_time": "2025-03-10T22:18:08.441063400Z"
    }
   },
   "id": "c3305484ffa03da1"
  },
  {
   "cell_type": "code",
   "execution_count": 16,
   "outputs": [],
   "source": [
    "def insert_recipe_data(recipe_data, db_path):\n",
    "    conn = sqlite3.connect(db_path)\n",
    "    cursor = conn.cursor()\n",
    "    cursor.execute(\"SELECT name FROM sqlite_master WHERE type='table';\")\n",
    "    tables = cursor.fetchall()\n",
    "    # Insert into the recipes table\n",
    "    cursor.execute(\"INSERT INTO recipes (title, instructions_url) VALUES (?, ?)\",\n",
    "                   (recipe_data['title'], recipe_data['url']))\n",
    "    # cursor.execute(\"INSERT INTO recipes (title, instructions_url) VALUES (?, ?)\",\n",
    "    # (recipe_data['title'], recipe_data['url'],))\n",
    "    recipe_id = cursor.lastrowid  # Get the newly inserted recipe ID\n",
    "\n",
    "    for line in recipe_data['ingredients']:\n",
    "        ingredient_name, quantity, unit = parse_ingredient(line)\n",
    "        # Check if the ingredient already exists\n",
    "        cursor.execute(\"SELECT ingredient_id FROM ingredients WHERE ingredient_name = ?\", (ingredient_name,))\n",
    "        existing_ingredient = cursor.fetchone()\n",
    "\n",
    "        if existing_ingredient:\n",
    "            ingredient_id = existing_ingredient[0]\n",
    "        else:\n",
    "            # Insert the new ingredient\n",
    "            cursor.execute(\"INSERT INTO ingredients (ingredient_name) VALUES (?)\", (ingredient_name,))\n",
    "            ingredient_id = cursor.lastrowid\n",
    "\n",
    "        # Insert into the recipe_ingredients table\n",
    "        cursor.execute(\"INSERT INTO recipe_ingredients (recipe_id, ingredient_id, quantity, unit) VALUES (?, ?, ?, ?)\",\n",
    "                       (recipe_id, ingredient_id, quantity, unit))\n",
    "\n",
    "    conn.commit()\n",
    "    conn.close()"
   ],
   "metadata": {
    "collapsed": false,
    "ExecuteTime": {
     "end_time": "2025-03-10T22:25:01.198714600Z",
     "start_time": "2025-03-10T22:25:01.194518800Z"
    }
   },
   "id": "43eb8b38499af5f4"
  },
  {
   "cell_type": "code",
   "execution_count": 6,
   "outputs": [],
   "source": [
    "def get_recipe_urls_from_category(category_url, driver):\n",
    "    driver.get(category_url)\n",
    "    time.sleep(2) #allow page to load.\n",
    "\n",
    "    recipe_links = driver.find_elements(By.CSS_SELECTOR, \"a[href*='/cookbook/']\") #find all links containing cookbook\n",
    "    urls = []\n",
    "    for link in recipe_links:\n",
    "        urls.append(link.get_attribute(\"href\"))\n",
    "    return urls"
   ],
   "metadata": {
    "collapsed": false,
    "ExecuteTime": {
     "end_time": "2025-03-10T22:18:11.310495700Z",
     "start_time": "2025-03-10T22:18:11.309495400Z"
    }
   },
   "id": "565714f965e8b039"
  },
  {
   "cell_type": "code",
   "execution_count": 7,
   "outputs": [],
   "source": [
    "def scrape_all_gousto_recipes(category_url, driver):\n",
    "    visited_urls = set()\n",
    "    all_recipe_data = []\n",
    "\n",
    "    recipe_urls = get_recipe_urls_from_category(category_url, driver)\n",
    "    for recipe_url in recipe_urls:\n",
    "        if recipe_url not in visited_urls:\n",
    "            visited_urls.add(recipe_url)\n",
    "            recipe_data = scrape_gousto_recipe(recipe_url, driver) #your existing scrape function.\n",
    "            if recipe_data:\n",
    "                all_recipe_data.append(recipe_data)\n",
    "            time.sleep(1) #rate limiting.\n",
    "    return all_recipe_data"
   ],
   "metadata": {
    "collapsed": false,
    "ExecuteTime": {
     "end_time": "2025-03-10T22:18:11.868147700Z",
     "start_time": "2025-03-10T22:18:11.861567800Z"
    }
   },
   "id": "d4de0a3b4d5fc5b8"
  },
  {
   "cell_type": "code",
   "execution_count": 18,
   "outputs": [],
   "source": [
    "category_url = 'https://www.gousto.co.uk/cookbook/recipes'\n",
    "\n",
    "service = Service(executable_path='chromedriver-win64/chromedriver.exe')  # Replace with your chromedriver path.\n",
    "driver = webdriver.Chrome(service=service)\n",
    "try:\n",
    "    all_recipe_data = scrape_all_gousto_recipes(category_url, driver)\n",
    "    # store all_recipe_data into the database.\n",
    "finally:\n",
    "    driver.quit()\n",
    "for i in all_recipe_data:\n",
    "    if i['ingredients']:\n",
    "        insert_recipe_data(i, 'recipes.sqlite')"
   ],
   "metadata": {
    "collapsed": false,
    "ExecuteTime": {
     "end_time": "2025-03-10T22:29:49.012924600Z",
     "start_time": "2025-03-10T22:26:33.118555700Z"
    }
   },
   "id": "846dfc89b8653700"
  },
  {
   "cell_type": "code",
   "execution_count": 17,
   "outputs": [
    {
     "name": "stdout",
     "output_type": "stream",
     "text": [
      "('Cheddar cheese', 40.0, 'g')\n",
      "('Cucumber', 0.5, 'pcs')\n",
      "('Tomato ketchup', 30.0, 'ml')\n",
      "('Mustard ketchup', 20.0, 'g')\n",
      "('Ultimate vegan burger patties', 2.0, 'pcs')\n",
      "('Crispy onions', 15.0, 'g')\n",
      "('White potato', 4.0, None)\n",
      "('Brioche style buns', 2.0, 'pcs')\n",
      "('Mayonnaise', 50.0, 'ml')\n",
      "('Yellow mustard seeds', 1.0, 'tsp')\n",
      "('Red wine vinegar', 30.0, 'ml')\n"
     ]
    }
   ],
   "source": [
    "service = Service(executable_path='chromedriver-win64/chromedriver.exe')  # Replace with your chromedriver path.\n",
    "driver = webdriver.Chrome(service=service)\n",
    "troubleshoot = scrape_gousto_recipe('https://www.gousto.co.uk/cookbook/recipes/american-veggie-cheeseburger-with-potato-wedges', driver)\n",
    "for line in troubleshoot['ingredients']:\n",
    "    print(parse_ingredient(line))\n",
    "insert_recipe_data(troubleshoot, 'C:/Users/brxce/Documents/Python Projects/mealplanner/recipes.sqlite')\n",
    "driver.quit()"
   ],
   "metadata": {
    "collapsed": false,
    "ExecuteTime": {
     "end_time": "2025-03-10T22:25:17.643904900Z",
     "start_time": "2025-03-10T22:25:09.295409900Z"
    }
   },
   "id": "5a6696283a75a141"
  },
  {
   "cell_type": "code",
   "execution_count": 9,
   "outputs": [
    {
     "ename": "AttributeError",
     "evalue": "'list' object has no attribute 'split'",
     "output_type": "error",
     "traceback": [
      "\u001B[1;31m---------------------------------------------------------------------------\u001B[0m",
      "\u001B[1;31mAttributeError\u001B[0m                            Traceback (most recent call last)",
      "Cell \u001B[1;32mIn[9], line 4\u001B[0m\n\u001B[0;32m      2\u001B[0m driver \u001B[38;5;241m=\u001B[39m webdriver\u001B[38;5;241m.\u001B[39mChrome(service\u001B[38;5;241m=\u001B[39mservice)\n\u001B[0;32m      3\u001B[0m troubleshoot \u001B[38;5;241m=\u001B[39m scrape_gousto_recipe(\u001B[38;5;124m'\u001B[39m\u001B[38;5;124mhttps://www.gousto.co.uk/cookbook/recipes/american-veggie-cheeseburger-with-potato-wedges\u001B[39m\u001B[38;5;124m'\u001B[39m, driver)\n\u001B[1;32m----> 4\u001B[0m \u001B[38;5;28;01mfor\u001B[39;00m line \u001B[38;5;129;01min\u001B[39;00m troubleshoot[\u001B[38;5;124m'\u001B[39m\u001B[38;5;124mingredients\u001B[39m\u001B[38;5;124m'\u001B[39m]\u001B[38;5;241m.\u001B[39msplit(\u001B[38;5;124m'\u001B[39m\u001B[38;5;130;01m\\n\u001B[39;00m\u001B[38;5;124m'\u001B[39m):\n\u001B[0;32m      5\u001B[0m     \u001B[38;5;28mprint\u001B[39m(parse_ingredient(line))\n\u001B[0;32m      6\u001B[0m insert_recipe_data(troubleshoot, \u001B[38;5;124m'\u001B[39m\u001B[38;5;124mC:/Users/brxce/Documents/Python Projects/mealplanner/recipes.sqlite\u001B[39m\u001B[38;5;124m'\u001B[39m)\n",
      "\u001B[1;31mAttributeError\u001B[0m: 'list' object has no attribute 'split'"
     ]
    }
   ],
   "source": [
    "service = Service(executable_path='chromedriver-win64/chromedriver.exe')  # Replace with your chromedriver path.\n",
    "driver = webdriver.Chrome(service=service)\n",
    "troubleshoot = scrape_gousto_recipe('https://www.gousto.co.uk/cookbook/recipes/malaysian-coconut-basa-pickled-cucumber', driver)\n",
    "for line in troubleshoot['ingredients'].split('\\n'):\n",
    "    print(parse_ingredient(line))\n",
    "insert_recipe_data(troubleshoot, 'C:/Users/brxce/Documents/Python Projects/mealplanner/recipes.sqlite')\n",
    "driver.quit()"
   ],
   "metadata": {
    "collapsed": false,
    "ExecuteTime": {
     "end_time": "2025-03-10T22:18:29.642349500Z",
     "start_time": "2025-03-10T22:18:22.987521600Z"
    }
   },
   "id": "b9f01a553f33334c"
  }
 ],
 "metadata": {
  "kernelspec": {
   "display_name": "Python 3",
   "language": "python",
   "name": "python3"
  },
  "language_info": {
   "codemirror_mode": {
    "name": "ipython",
    "version": 2
   },
   "file_extension": ".py",
   "mimetype": "text/x-python",
   "name": "python",
   "nbconvert_exporter": "python",
   "pygments_lexer": "ipython2",
   "version": "2.7.6"
  }
 },
 "nbformat": 4,
 "nbformat_minor": 5
}
